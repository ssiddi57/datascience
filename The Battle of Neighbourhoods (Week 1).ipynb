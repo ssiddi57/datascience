{
    "cells": [
        {
            "cell_type": "markdown",
            "metadata": {
                "collapsed": true
            },
            "source": "# Capstone Project: The Battle of Neighbourhoods (Week 1)"
        },
        {
            "cell_type": "markdown",
            "metadata": {},
            "source": "### Introduction:\nToronto, Ontario is known as one of the most multicultural and cosmopolitan cities in the world. As Canada's most populous city, it is recognized as a hub for business, technology, arts, culture, sports and food. With its highly diversified economy, Toronto is attracting more and more people to its urban centre. It is estimated that over the next 50 years, the population of the city will double, and the density will grow at a thrilling rate from 4,000 people per square kilometre today to more than 7,700 in 2066. "
        },
        {
            "cell_type": "markdown",
            "metadata": {},
            "source": "### Business Problem:\nWith this drastically high population growth rate, contractors and developers have a great opportunity to build more apartment buildings and condos to keep up with growing demands. Thus, my client Contractor X has hired my team of data scientists to find the best location in Toronto to build their next apartment building complex. The selection criteria will be based off two main factors: 1) wards with lower apartment building densities and 2) wards with already existing nearby amenities for future tenants (e.g. grocery stores, fitness centres, shopping malls, parks, etc.)."
        },
        {
            "cell_type": "markdown",
            "metadata": {},
            "source": "### Data:\nTo solve this business problem for my client, Contractor X, I will use 3 datasets to find the optimal location to build their apartment building complex:\n1.\tCity Wards Data (https://open.toronto.ca/dataset/city-wards/): To find out the latitude and longitude of each of the 25 wards in Toronto)\n2.\tApartment Building Registration Data (https://open.toronto.ca/dataset/apartment-building-registration/): To find out the density of registered apartment buildings for each ward in Toronto)\n3.\tFoursquare Data: To find out which amenities (venue categories) are located in each ward.\n"
        },
        {
            "cell_type": "code",
            "execution_count": null,
            "metadata": {},
            "outputs": [],
            "source": ""
        }
    ],
    "metadata": {
        "kernelspec": {
            "display_name": "Python 3.6",
            "language": "python",
            "name": "python3"
        },
        "language_info": {
            "codemirror_mode": {
                "name": "ipython",
                "version": 3
            },
            "file_extension": ".py",
            "mimetype": "text/x-python",
            "name": "python",
            "nbconvert_exporter": "python",
            "pygments_lexer": "ipython3",
            "version": "3.6.8"
        }
    },
    "nbformat": 4,
    "nbformat_minor": 1
}